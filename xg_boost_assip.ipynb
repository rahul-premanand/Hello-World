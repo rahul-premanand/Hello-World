{
  "cells": [
    {
      "cell_type": "markdown",
      "metadata": {
        "id": "view-in-github",
        "colab_type": "text"
      },
      "source": [
        "<a href=\"https://colab.research.google.com/github/rahul-premanand/Hello-World/blob/main/xg_boost_assip.ipynb\" target=\"_parent\"><img src=\"https://colab.research.google.com/assets/colab-badge.svg\" alt=\"Open In Colab\"/></a>"
      ]
    },
    {
      "cell_type": "code",
      "execution_count": null,
      "metadata": {
        "id": "nYi4KWy5Kbom",
        "collapsed": true
      },
      "outputs": [],
      "source": [
        "# Mount Google Drive\n",
        "from google.colab import drive\n",
        "drive.mount('/content/drive')\n",
        "\n",
        "# Install required packages\n",
        "#!pip install shap\n",
        "\n",
        "import pandas as pd\n",
        "import xgboost as xgb\n",
        "from sklearn.model_selection import train_test_split\n",
        "from sklearn.metrics import mean_squared_error\n",
        "import shap\n",
        "import matplotlib.pyplot as plt\n",
        "import numpy as np\n",
        "import plotly.express as px"
      ]
    },
    {
      "cell_type": "code",
      "execution_count": null,
      "metadata": {
        "id": "qj_i7UaVQ42H",
        "collapsed": true
      },
      "outputs": [],
      "source": [
        "# Load the data\n",
        "filepath = \"/content/drive/MyDrive/assip_data/new_daily_air_data_merged.csv\"\n",
        "df = pd.read_csv(filepath)\n",
        "\n",
        "# Drop rows with missing values\n",
        "df = df.dropna()\n",
        "\n",
        "# Print column names\n",
        "print(df.columns)\n",
        "print(df['County Name'].unique())"
      ]
    },
    {
      "cell_type": "code",
      "source": [
        "available_counties = df['County Name'].unique()\n",
        "print(\"Available counties:\", available_counties)\n",
        "\n",
        "# Let's choose a few random counties for the example\n",
        "specified_counties = available_counties[:6]  # Choosing the first 6 available counties\n",
        "df_selected = df[df['County Name'].isin(specified_counties)]\n",
        "\n",
        "# Print unique counties in the filtered dataset\n",
        "print(df_selected['County Name'].unique())"
      ],
      "metadata": {
        "id": "SuyojqW2WWaT"
      },
      "execution_count": null,
      "outputs": []
    },
    {
      "cell_type": "code",
      "source": [
        "\n",
        "# Select features and target variable, excluding the 'County Name' column during training\n",
        "X = df_selected.drop(columns=['AQI', 'Latitude', 'Longitude', 'County Name', 'State Name', 'City Name', 'Address', 'Date Local', 'Unnamed: 0'])\n",
        "y = df_selected['AQI']\n",
        "\n",
        "# Ensure all feature columns are numeric\n",
        "X = X.apply(pd.to_numeric, errors='coerce')\n",
        "\n",
        "# Ensure target variable has no NaN or infinite values\n",
        "y = y.replace([float('inf'), -float('inf')], float('nan')).dropna()\n",
        "\n",
        "# Align features and target to have matching indices\n",
        "X, y = X.align(y, join='inner', axis=0)\n",
        "\n",
        "print(\"Features and target selected successfully.\")\n",
        "\n",
        "\n",
        "# Print the first few rows of the features and target\n",
        "print(X.head())\n",
        "print(y.head())"
      ],
      "metadata": {
        "id": "rCPBwgMcYwpt"
      },
      "execution_count": null,
      "outputs": []
    },
    {
      "cell_type": "code",
      "source": [
        "# Split the data into training and testing sets\n",
        "X_train, X_test, y_train, y_test = train_test_split(X, y, test_size=0.2, random_state=42)\n",
        "print(\"Training and testing sets created successfully.\")\n",
        "params = {\"learning_rate\": 0.01, \"max_depth\": 4}\n",
        "dtrain = xgb.DMatrix(X_train, label=y_train)\n",
        "bst = xgb.train(params, dtrain, num_boost_round=1000)\n",
        "\n",
        "# Testing the XGBoost model\n",
        "dtest = xgb.DMatrix(X_test)\n",
        "y_pred = bst.predict(dtest)\n",
        "rmse = np.sqrt(mean_squared_error(y_test, y_pred))\n",
        "print(f\"RMSE: {rmse}\")\n",
        "\n",
        "\n",
        "\n",
        "\n",
        "\n",
        "\n"
      ],
      "metadata": {
        "id": "AazJJM0oY5_N"
      },
      "execution_count": null,
      "outputs": []
    },
    {
      "cell_type": "code",
      "source": [
        "# Calculate feature importance\n",
        "importance_df = pd.DataFrame({\n",
        "    'Feature': bst.get_score(importance_type='weight').keys(),\n",
        "    'Importance': bst.get_score(importance_type='weight').values()\n",
        "}).sort_values(by='Importance', ascending=False)\n",
        "\n",
        "print(\"XGBoost Feature Importances:\")\n",
        "print(importance_df)\n"
      ],
      "metadata": {
        "id": "M7C5ISb_yrzz"
      },
      "execution_count": null,
      "outputs": []
    },
    {
      "cell_type": "code",
      "source": [
        "# Initialize the SHAP explainer\n",
        "explainer = shap.Explainer(bst, X_train)\n",
        "\n",
        "# Calculate SHAP values\n",
        "shap_values = explainer(X_test)\n",
        "\n",
        "\n",
        "# Initialize the SHAP explainer\n",
        "explainer = shap.Explainer(bst, X_train)\n",
        "\n",
        "# Calculate SHAP values\n",
        "shap_values = explainer(X_test)\n",
        "\n",
        "\n",
        "# Get the feature importances from SHAP values\n",
        "shap_importance_df = pd.DataFrame({\n",
        "    'Feature': X.columns,\n",
        "    'Importance': np.mean(np.abs(shap_values.values), axis=0)\n",
        "}).sort_values(by='Importance', ascending=False)\n",
        "\n",
        "print(\"SHAP Feature Importances:\")\n",
        "print(shap_importance_df)\n",
        "\n",
        "# Plot SHAP summary plot\n",
        "shap.summary_plot(shap_values, X_test)\n",
        "plt.show()\n",
        "\n",
        "\n",
        "# Ensure the feature exists in X_test\n",
        "feature = \"County Code\"\n",
        "if feature in X_test.columns:\n",
        "    # Plot SHAP dependence plot for a specific feature\n",
        "    shap.dependence_plot(feature, shap_values, X_test)\n",
        "    plt.show()\n",
        "else:\n",
        "    print(f\"Feature '{feature}' is not in X_test columns.\")"
      ],
      "metadata": {
        "collapsed": true,
        "id": "F37PSIrWyubJ"
      },
      "execution_count": null,
      "outputs": []
    },
    {
      "cell_type": "code",
      "source": [
        "shap.plots.bar(shap_values)"
      ],
      "metadata": {
        "id": "NMO6DTwPDpXR"
      },
      "execution_count": null,
      "outputs": []
    }
  ],
  "metadata": {
    "colab": {
      "provenance": [],
      "authorship_tag": "ABX9TyOc7f5nEY6V4oChNw12GH9X",
      "include_colab_link": true
    },
    "kernelspec": {
      "display_name": "Python 3",
      "name": "python3"
    },
    "language_info": {
      "name": "python"
    }
  },
  "nbformat": 4,
  "nbformat_minor": 0
}